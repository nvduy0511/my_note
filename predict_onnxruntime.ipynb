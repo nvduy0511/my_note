{
 "cells": [
  {
   "cell_type": "code",
   "execution_count": 99,
   "metadata": {},
   "outputs": [],
   "source": [
    "import onnxruntime\n",
    "import numpy as np\n",
    "from PIL import Image \n",
    "import os\n",
    "import time\n",
    "import cv2"
   ]
  },
  {
   "cell_type": "code",
   "execution_count": 85,
   "metadata": {},
   "outputs": [],
   "source": [
    "# labels = [\"beige\",\"black\",\"blue\",\"brown\",\"gold\",\"green\",\"grey\",\"orange\",\"pink\",\"purple\",\"red\",\"silver\",\"tan\",\"white\",\"yellow\"]\n",
    "labels = ['black', 'blue', 'brown', 'green', 'orange', 'pink', 'red', 'silver', 'white', 'yellow']"
   ]
  },
  {
   "cell_type": "code",
   "execution_count": 86,
   "metadata": {},
   "outputs": [],
   "source": [
    "session = onnxruntime.InferenceSession(\"./models/models_onnx/model_color.onnx\",providers=['CUDAExecutionProvider'])\n",
    "session.get_inputs()[0].shape\n",
    "session.get_inputs()[0].type\n",
    "\n",
    "input_name = session.get_inputs()[0].name\n",
    "output_name = session.get_outputs()[0].name"
   ]
  },
  {
   "cell_type": "code",
   "execution_count": 100,
   "metadata": {},
   "outputs": [],
   "source": [
    "\n",
    "#OpenCv\n",
    "def predict(img_path):\n",
    "    #img = Image.open(img_path)\n",
    "    img = cv2.imread(img_path)\n",
    "    img = cv2.cvtColor(img, cv2.COLOR_BGR2RGB) \n",
    "    img = cv2.resize(img,(224, 224))\n",
    "    img_array = np.array(img)\n",
    "    print( f'{img_array.shape[0]} {img_array.shape[1]} {img_array.shape[2]}') \n",
    "\n",
    "    img_array = img_array.astype('float32') / 255.0 # Normalize pixel values to [0, 1]\n",
    "    # for i in range(img_array.shape[0]):\n",
    "    #     for j in range(img_array.shape[1]):\n",
    "    #         for k in range(img_array.shape[2]):\n",
    "    #             print(img_array[i, j, k], end=' ')\n",
    "    #         print()\n",
    "    #     print()\n",
    "    img_array = np.expand_dims(img_array, axis=0)\n",
    "  \n",
    "    start_time = time.time()\n",
    "    predictions = session.run([output_name], {input_name: img_array})\n",
    "    end_time = time.time()\n",
    "    total_time =  (end_time - start_time) * 1000  # Convert to milliseconds\n",
    "    # print(total_time)\n",
    "    predicted_class_index = np.argmax(predictions[0])\n",
    "    print(predictions[0][0][predicted_class_index])\n",
    "    return labels[predicted_class_index],total_time"
   ]
  },
  {
   "cell_type": "code",
   "execution_count": 50,
   "metadata": {},
   "outputs": [],
   "source": [
    "#PIL\n",
    "def predict(img_path):\n",
    "    img = Image.open(img_path)\n",
    "    img = img.resize((224, 224))\n",
    "    img_array = np.array(img)\n",
    "    img_array = img_array.astype('float32')/ 255.0 # Normalize pixel values to [0, 1]\n",
    "    img_array = np.expand_dims(img_array, axis=0) \n",
    "    for i in range(img_array.shape[0]):\n",
    "        for j in range(img_array.shape[1]):\n",
    "            for k in range(img_array.shape[2]):\n",
    "                print(img_array[i, j, k], end=' ')\n",
    "            print()\n",
    "        print()\n",
    "    start_time = time.time()\n",
    "    predictions = session.run([output_name], {input_name: img_array})\n",
    "    end_time = time.time()\n",
    "    total_time = (end_time - start_time) * 1000  # Convert to milliseconds\n",
    "    print(total_time)\n",
    "    predicted_class_index = np.argmax(predictions[0])\n",
    "    print(predictions[0][0][predicted_class_index])\n",
    "    \n",
    "    return labels[predicted_class_index]"
   ]
  },
  {
   "cell_type": "code",
   "execution_count": 83,
   "metadata": {},
   "outputs": [
    {
     "name": "stdout",
     "output_type": "stream",
     "text": [
      "224 224 3\n",
      "0.9101917\n",
      "orange\n"
     ]
    }
   ],
   "source": [
    "print(predict('red.jpg'))"
   ]
  },
  {
   "cell_type": "code",
   "execution_count": null,
   "metadata": {},
   "outputs": [],
   "source": [
    "exp_th = 8\n",
    "images_path = 'D:/PROJECTS/AI/Color/Data_vehicle/images_test/test'\n",
    "images = os.listdir(images_path)\n",
    "save_path = 'D:/PROJECTS/AI/Color/Data_vehicle/images_test/runs'\n",
    "save_path += f'/exp_onnx{exp_th}'\n",
    "i = 0\n",
    "total_time = 0\n",
    "for image in images:\n",
    "    color,time_t = predict(os.path.join(images_path, image))\n",
    "    total_time += time_t\n",
    "    folder_save = os.path.join(save_path, color)\n",
    "    if not os.path.exists(folder_save):\n",
    "        os.makedirs(folder_save)\n",
    "    Image.open(os.path.join(images_path, image)).save(os.path.join(folder_save, image))\n",
    "    i += 1\n",
    "    if i == 2000:\n",
    "        break\n",
    "print(total_time/2000)"
   ]
  }
 ],
 "metadata": {
  "kernelspec": {
   "display_name": "mvenv",
   "language": "python",
   "name": "python3"
  },
  "language_info": {
   "codemirror_mode": {
    "name": "ipython",
    "version": 3
   },
   "file_extension": ".py",
   "mimetype": "text/x-python",
   "name": "python",
   "nbconvert_exporter": "python",
   "pygments_lexer": "ipython3",
   "version": "3.9.13"
  },
  "orig_nbformat": 4
 },
 "nbformat": 4,
 "nbformat_minor": 2
}
