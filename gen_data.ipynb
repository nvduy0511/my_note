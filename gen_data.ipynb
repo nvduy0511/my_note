{
 "cells": [
  {
   "cell_type": "code",
   "execution_count": 1,
   "metadata": {},
   "outputs": [],
   "source": [
    "#import \n",
    "from PIL import Image\n",
    "import numpy as np\n",
    "from tensorflow.keras.preprocessing.image import ImageDataGenerator\n",
    "import os\n",
    "import shutil\n",
    "import uuid\n",
    "import math \n",
    "import random"
   ]
  },
  {
   "cell_type": "code",
   "execution_count": 3,
   "metadata": {},
   "outputs": [],
   "source": [
    "# remove desktop.ini\n",
    "data_root_path = 'D:/PROJECTS/AI/Color/Clothes/dataset_2023_05_11'\n",
    "\n",
    "folders = os.listdir(data_root_path)\n",
    "\n",
    "# for folder in folders:\n",
    "#     os.remove(f'{data_root_path}/{folder}/desktop.ini')"
   ]
  },
  {
   "cell_type": "code",
   "execution_count": 4,
   "metadata": {},
   "outputs": [
    {
     "name": "stdout",
     "output_type": "stream",
     "text": [
      "folder: black --- count_train = 416 --- count_val = 104\n",
      "folder: blue --- count_train = 427 --- count_val = 107\n",
      "folder: brown --- count_train = 401 --- count_val = 101\n",
      "folder: green --- count_train = 352 --- count_val = 88\n",
      "folder: grey --- count_train = 404 --- count_val = 102\n",
      "folder: orange --- count_train = 338 --- count_val = 85\n",
      "folder: pink --- count_train = 298 --- count_val = 75\n",
      "folder: purple --- count_train = 371 --- count_val = 93\n",
      "folder: red --- count_train = 348 --- count_val = 87\n",
      "folder: white --- count_train = 387 --- count_val = 97\n",
      "folder: yellow --- count_train = 405 --- count_val = 102\n"
     ]
    }
   ],
   "source": [
    "# Make val folder, train folder from root data\n",
    "\n",
    "root_data_path = 'D:/PROJECTS/AI/Color/Clothes/dataset_process_avinh'\n",
    "train_path = 'D:/PROJECTS/AI/Color/Clothes/data_clothes_color_11_05_2023/train/'\n",
    "val_path = 'D:/PROJECTS/AI/Color/Clothes/data_clothes_color_11_05_2023/val/'\n",
    "\n",
    "sub_folders = os.listdir(root_data_path)\n",
    "\n",
    "for folder in sub_folders:\n",
    "    folder_path = os.path.join(root_data_path, folder)\n",
    "    images_in_folder = os.listdir(folder_path)\n",
    "    total_image = len(images_in_folder)\n",
    "    total_train = total_image * 0.8\n",
    "    total_train = int(total_train)\n",
    "    train_image_paths = random.sample(images_in_folder, total_train)\n",
    "    count_train  = 0\n",
    "    count_val  = 0\n",
    "\n",
    "    for image_train in train_image_paths:\n",
    "        sub_folder_train = os.path.join(train_path, folder)\n",
    "        if not os.path.exists(sub_folder_train):\n",
    "            os.makedirs(sub_folder_train)\n",
    "        shutil.move(os.path.join(folder_path, image_train), sub_folder_train)\n",
    "        count_train += 1\n",
    "\n",
    "    images_in_folder = os.listdir(folder_path)\n",
    "    for image in images_in_folder:\n",
    "            sub_folder_val = os.path.join(val_path, folder)\n",
    "            if not os.path.exists(sub_folder_val):\n",
    "                os.makedirs(sub_folder_val)\n",
    "            shutil.move(os.path.join(folder_path, image), sub_folder_val)\n",
    "            count_val += 1\n",
    "\n",
    "    print(f'folder: {folder} --- count_train = {count_train} --- count_val = {count_val}')"
   ]
  },
  {
   "cell_type": "code",
   "execution_count": 5,
   "metadata": {},
   "outputs": [],
   "source": [
    "#Define the augmentation parameters\n",
    "data_generator = ImageDataGenerator(\n",
    "        brightness_range=(0.6, 1.1),\n",
    "        rotation_range=15, # rotation between 0-30 degrees\n",
    "        width_shift_range=0.1, # shift the width by 20%\n",
    "        height_shift_range=0.1, # shift the height by 20%\n",
    "        horizontal_flip=True, # flip horizontally\n",
    "        vertical_flip=False, # flip vertically\n",
    "        fill_mode='nearest') # fill any empty pixels with the nearest pixel\n"
   ]
  },
  {
   "cell_type": "code",
   "execution_count": 6,
   "metadata": {},
   "outputs": [],
   "source": [
    "def augment(source_path, base_save_path, class_name, len):\n",
    "    image = Image.open(source_path)\n",
    "    # Convert the image to a numpy array\n",
    "    image_array = np.array(image)\n",
    "    # Reshape the array to a 4D tensor\n",
    "    image_array = np.expand_dims(image_array, axis=0)\n",
    "    # Generate augmented images\n",
    "    augmented_images = data_generator.flow(image_array, batch_size=1)\n",
    "    # Save the augmented images\n",
    "    for i, new_image_array in enumerate(augmented_images):\n",
    "        # Convert the array to an image\n",
    "        new_image = Image.fromarray(np.uint8(new_image_array[0]))\n",
    "        # Save the image\n",
    "        new_image.save(f'{base_save_path}/{class_name}_ag_{uuid.uuid4()}.jpg')\n",
    "        # Stop after generating 10 images\n",
    "        if i == len-1:\n",
    "            break"
   ]
  },
  {
   "cell_type": "code",
   "execution_count": null,
   "metadata": {},
   "outputs": [],
   "source": [
    "# test augment image \n",
    "augment('D:/PROJECTS/AI/Color/Data_vehicle/DATA/data_20_04_2023/val/black/11_06_36_202__15268__755741__99A52301_car___0.8741001__origin_obj.jpeg', './augments/','blue', 10)\n"
   ]
  },
  {
   "cell_type": "code",
   "execution_count": 7,
   "metadata": {},
   "outputs": [
    {
     "name": "stdout",
     "output_type": "stream",
     "text": [
      "DONE folder black x = 6\n",
      "DONE folder blue x = 6\n",
      "DONE folder brown x = 6\n",
      "DONE folder green x = 8\n",
      "DONE folder grey x = 6\n",
      "DONE folder orange x = 8\n",
      "DONE folder pink x = 9\n",
      "DONE folder purple x = 7\n",
      "DONE folder red x = 8\n",
      "DONE folder white x = 7\n",
      "DONE folder yellow x = 6\n"
     ]
    }
   ],
   "source": [
    "root_data_path = 'D:/PROJECTS/AI/Color/Clothes/data_clothes_color_11_05_2023'\n",
    "train_path = 'D:/PROJECTS/AI/Color/Clothes/data_clothes_color_11_05_2023/train'\n",
    "val_path = 'D:/PROJECTS/AI/Color/Clothes/data_clothes_color_11_05_2023/val'\n",
    "\n",
    "sub_train = os.listdir(train_path)\n",
    "sub_val = os.listdir(val_path)\n",
    "\n",
    "for folder in sub_train:\n",
    "    images_train_in_folder = os.listdir(os.path.join(train_path, folder))\n",
    "    if len(images_train_in_folder) == 0:\n",
    "        continue\n",
    "    x = 3000 / len(images_train_in_folder)\n",
    "    x = round(x) - 1\n",
    "    if x > 10:\n",
    "        x = 10\n",
    "    # augment train data\n",
    "    for image_train in images_train_in_folder:\n",
    "        augment(f'{train_path}/{folder}/{image_train}', f'{train_path}/{folder}', folder, x)\n",
    "    # augment val data\n",
    "    images_val_in_folder = os.listdir(os.path.join(val_path, folder))\n",
    "    for image_val in images_val_in_folder:\n",
    "        augment(f'{val_path}/{folder}/{image_val}', f'{val_path}/{folder}', folder, x)\n",
    "\n",
    "    print(f'DONE folder {folder} x = {x}')"
   ]
  }
 ],
 "metadata": {
  "kernelspec": {
   "display_name": "mvenv",
   "language": "python",
   "name": "python3"
  },
  "language_info": {
   "codemirror_mode": {
    "name": "ipython",
    "version": 3
   },
   "file_extension": ".py",
   "mimetype": "text/x-python",
   "name": "python",
   "nbconvert_exporter": "python",
   "pygments_lexer": "ipython3",
   "version": "3.9.13"
  },
  "orig_nbformat": 4
 },
 "nbformat": 4,
 "nbformat_minor": 2
}
