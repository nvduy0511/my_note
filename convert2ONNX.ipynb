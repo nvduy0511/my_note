{
 "cells": [
  {
   "cell_type": "code",
   "execution_count": null,
   "metadata": {},
   "outputs": [],
   "source": [
    "import tensorflow as tf\n",
    "print(tf.__version__)"
   ]
  },
  {
   "cell_type": "code",
   "execution_count": 3,
   "metadata": {},
   "outputs": [],
   "source": [
    "import tf2onnx.convert\n",
    "import onnx\n",
    "#Load The saved model \n",
    "from tensorflow.keras.models import load_model\n",
    "\n",
    "model_name = 'model-11-0.82_rescale'\n",
    "loaded_keras_model = load_model(f'./models/train_eff/{model_name}.hdf5')\n",
    "\n",
    "onnx_model, _ = tf2onnx.convert.from_keras(loaded_keras_model)\n",
    "onnx.save(onnx_model, f'./models/models_onnx/{model_name}.onnx')"
   ]
  },
  {
   "cell_type": "code",
   "execution_count": 1,
   "metadata": {},
   "outputs": [],
   "source": [
    "!pip install onnxconverter-common"
   ]
  },
  {
   "cell_type": "code",
   "execution_count": null,
   "metadata": {},
   "outputs": [],
   "source": [
    "import onnx\n",
    "from onnxconverter_common import float16\n",
    "\n",
    "model = onnx.load(\"./models/models_onnx/EfficientNetB3-car color-80.06.onnx\")\n",
    "model_fp16 = float16.convert_float_to_float16(model)\n",
    "onnx.save(model_fp16, \"./models/models_onnx/EfficientNetB3-carcolor-80.06_float16.onnx\")"
   ]
  }
 ],
 "metadata": {
  "kernelspec": {
   "display_name": "mvenv",
   "language": "python",
   "name": "python3"
  },
  "language_info": {
   "codemirror_mode": {
    "name": "ipython",
    "version": 3
   },
   "file_extension": ".py",
   "mimetype": "text/x-python",
   "name": "python",
   "nbconvert_exporter": "python",
   "pygments_lexer": "ipython3",
   "version": "3.9.13"
  },
  "orig_nbformat": 4
 },
 "nbformat": 4,
 "nbformat_minor": 2
}
